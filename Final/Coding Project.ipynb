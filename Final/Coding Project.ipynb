{
 "cells": [
  {
   "cell_type": "markdown",
   "id": "1ce941c8",
   "metadata": {},
   "source": [
    "#     Weather App\n"
   ]
  },
  {
   "cell_type": "markdown",
   "id": "23c966f1",
   "metadata": {},
   "source": [
    "This final project is an interactive way to check the weather outside.\n",
    "\n",
    "Using a weather API from metomatics, the user has a way to input the parameters for where they would like to see the weather,\n",
    "when, and the temperature unit of the weather.\n",
    "\n",
    "The interactive UI comes from the widgets module, allowing for ease of use.\n",
    "\n",
    "Unfourtanlty I had many more plans for this app, such as implementing ways to transmute coordinates into adresses and vice versa and implementing them but they didn't pan out.\n",
    "\n",
    "Hope you enjoy!\n",
    "\n",
    "(P.S the API is kind of weird you might have to change the date to the current day for eveyrthing not to mess up)"
   ]
  },
  {
   "cell_type": "code",
   "execution_count": 2,
   "id": "6f6306ba",
   "metadata": {},
   "outputs": [],
   "source": [
    "\n",
    "import requests\n",
    "import ipywidgets as widgets"
   ]
  },
  {
   "cell_type": "code",
   "execution_count": 5,
   "id": "99732f63",
   "metadata": {},
   "outputs": [
    {
     "data": {
      "text/plain": [
       "9.1"
      ]
     },
     "execution_count": 5,
     "metadata": {},
     "output_type": "execute_result"
    }
   ],
   "source": [
    "url = 'https://api.meteomatics.com/2024-03-21T00:00:00Z/t_2m:F/52.520551,13.461804/json'\n",
    "weather = requests.get(url, auth=('ucsd_ghimire_anadi', '99tNrBzNb7'))\n",
    "#data = weather.json()\n",
    "#temp = data['data'][0]['coordinates'][0]['dates'][0]['value']\n",
    "#temp\n",
    "\n",
    "def temperature_finder(date, time, lat, long, fahrenheit=True):\n",
    "   \n",
    "    #Checking for the correct temp unit\n",
    "    if fahrenheit:\n",
    "        temp_unit = 'F'\n",
    "    else:\n",
    "        temp_unit = 'C'\n",
    "    \n",
    "    #Uses arguments to input it into the function, other snipped gives acces to the site\n",
    "    url = f'https://api.meteomatics.com/{date}T{time}Z/t_2m:{temp_unit}/{lat},{long}/json'\n",
    "    weather_data = requests.get(url, auth=('ucsd_ghimire_anadi', '99tNrBzNb7')).json()\n",
    "    \n",
    "    #Code for debugging anytime\n",
    "    #print(\"API Response:\", weather_data)  \n",
    "    \n",
    "   \n",
    "    temperature_value = weather_data['data'][0]['coordinates'][0]['dates'][-0]['value']\n",
    "    return temperature_value \n",
    "\n",
    "\n",
    "date = '2024-03-21'\n",
    "time = '00:00:00'\n",
    "lat = '52.520551'\n",
    "long = '13.461804'\n",
    "\n",
    "\n",
    "temperature_finder(date, time, lat, long, False)"
   ]
  },
  {
   "cell_type": "code",
   "execution_count": 7,
   "id": "12ea1223",
   "metadata": {},
   "outputs": [],
   "source": [
    "date = '2024-03-21'\n",
    "time = '00:00:00'\n",
    "lat = '52.520551'\n",
    "long = '13.461804'\n",
    "temperature_finder(date, time, lat, long, False)\n",
    "assert temperature_finder(date, time, lat, long, False) == 9.1\n",
    "assert requests\n",
    "assert weather.status_code == 200\n",
    "assert widgets\n",
    "assert type(weather.text) == str"
   ]
  },
  {
   "cell_type": "code",
   "execution_count": 3,
   "id": "0da3e655",
   "metadata": {},
   "outputs": [
    {
     "name": "stdout",
     "output_type": "stream",
     "text": [
      "/bin/bash: zip: command not found\r\n"
     ]
    }
   ],
   "source": [
    "!zip -r Final_Project.zip Final_Project\n"
   ]
  },
  {
   "cell_type": "code",
   "execution_count": 4,
   "id": "a3db2702",
   "metadata": {},
   "outputs": [
    {
     "name": "stdout",
     "output_type": "stream",
     "text": [
      "Coding\\ Project.ipynb  functions.py  __pycache__  second_test.py  tests.ipynb\r\n"
     ]
    }
   ],
   "source": [
    "\n",
    "!dir"
   ]
  },
  {
   "cell_type": "code",
   "execution_count": null,
   "id": "12726959",
   "metadata": {},
   "outputs": [],
   "source": []
  },
  {
   "cell_type": "code",
   "execution_count": null,
   "id": "6e8c2254",
   "metadata": {},
   "outputs": [],
   "source": []
  },
  {
   "cell_type": "code",
   "execution_count": 21,
   "id": "3dd69d63",
   "metadata": {},
   "outputs": [],
   "source": []
  },
  {
   "cell_type": "code",
   "execution_count": 76,
   "id": "73a5c009",
   "metadata": {},
   "outputs": [
    {
     "name": "stdout",
     "output_type": "stream",
     "text": [
      "Before calling the function\n",
      "After calling the function\n"
     ]
    },
    {
     "data": {
      "text/plain": [
       "6"
      ]
     },
     "execution_count": 76,
     "metadata": {},
     "output_type": "execute_result"
    }
   ],
   "source": []
  },
  {
   "cell_type": "code",
   "execution_count": 19,
   "id": "c5c8bac1",
   "metadata": {},
   "outputs": [
    {
     "data": {
      "application/vnd.jupyter.widget-view+json": {
       "model_id": "9e594a7b746d43d9b27e4c658f2b6292",
       "version_major": 2,
       "version_minor": 0
      },
      "text/plain": [
       "interactive(children=(Text(value='2024-03-21', description='date'), Text(value='12:00', description='time'), I…"
      ]
     },
     "metadata": {},
     "output_type": "display_data"
    }
   ],
   "source": [
    "\n"
   ]
  },
  {
   "cell_type": "code",
   "execution_count": 16,
   "id": "4bd57ad2",
   "metadata": {},
   "outputs": [
    {
     "name": "stdout",
     "output_type": "stream",
     "text": [
      "Collecting geocoder\n",
      "  Using cached geocoder-1.38.1-py2.py3-none-any.whl (98 kB)\n",
      "Requirement already satisfied: six in /opt/conda/lib/python3.9/site-packages (from geocoder) (1.16.0)\n",
      "Requirement already satisfied: click in /opt/conda/lib/python3.9/site-packages (from geocoder) (8.0.1)\n",
      "Requirement already satisfied: requests in /opt/conda/lib/python3.9/site-packages (from geocoder) (2.26.0)\n",
      "Collecting future\n",
      "  Using cached future-1.0.0-py3-none-any.whl (491 kB)\n",
      "Collecting ratelim\n",
      "  Using cached ratelim-0.1.6-py2.py3-none-any.whl (4.0 kB)\n",
      "Requirement already satisfied: decorator in /opt/conda/lib/python3.9/site-packages (from ratelim->geocoder) (5.0.9)\n",
      "Requirement already satisfied: idna<4,>=2.5 in /opt/conda/lib/python3.9/site-packages (from requests->geocoder) (3.1)\n",
      "Requirement already satisfied: urllib3<1.27,>=1.21.1 in /opt/conda/lib/python3.9/site-packages (from requests->geocoder) (1.26.6)\n",
      "Requirement already satisfied: charset-normalizer~=2.0.0 in /opt/conda/lib/python3.9/site-packages (from requests->geocoder) (2.0.0)\n",
      "Requirement already satisfied: certifi>=2017.4.17 in /opt/conda/lib/python3.9/site-packages (from requests->geocoder) (2023.11.17)\n",
      "Installing collected packages: ratelim, future, geocoder\n",
      "\u001b[31mERROR: Could not install packages due to an OSError: [Errno 13] Permission denied: '/opt/conda/lib/python3.9/site-packages/ratelim'\n",
      "Consider using the `--user` option or check the permissions.\n",
      "\u001b[0m\n"
     ]
    },
    {
     "ename": "ModuleNotFoundError",
     "evalue": "No module named 'geocoder'",
     "output_type": "error",
     "traceback": [
      "\u001b[0;31m---------------------------------------------------------------------------\u001b[0m",
      "\u001b[0;31mModuleNotFoundError\u001b[0m                       Traceback (most recent call last)",
      "\u001b[0;32m/tmp/ipykernel_1393/1764627544.py\u001b[0m in \u001b[0;36m<module>\u001b[0;34m\u001b[0m\n\u001b[1;32m      1\u001b[0m \u001b[0mget_ipython\u001b[0m\u001b[0;34m(\u001b[0m\u001b[0;34m)\u001b[0m\u001b[0;34m.\u001b[0m\u001b[0msystem\u001b[0m\u001b[0;34m(\u001b[0m\u001b[0;34m'python -m pip install geocoder'\u001b[0m\u001b[0;34m)\u001b[0m\u001b[0;34m\u001b[0m\u001b[0;34m\u001b[0m\u001b[0m\n\u001b[0;32m----> 2\u001b[0;31m \u001b[0;32mimport\u001b[0m \u001b[0mgeocoder\u001b[0m\u001b[0;34m\u001b[0m\u001b[0;34m\u001b[0m\u001b[0m\n\u001b[0m\u001b[1;32m      3\u001b[0m \u001b[0mg\u001b[0m \u001b[0;34m=\u001b[0m \u001b[0mgeocoder\u001b[0m\u001b[0;34m.\u001b[0m\u001b[0mgoogle\u001b[0m\u001b[0;34m(\u001b[0m\u001b[0;34m'Mountain View, CA'\u001b[0m\u001b[0;34m)\u001b[0m\u001b[0;34m\u001b[0m\u001b[0;34m\u001b[0m\u001b[0m\n\u001b[1;32m      4\u001b[0m \u001b[0mg\u001b[0m\u001b[0;34m.\u001b[0m\u001b[0mlatlng\u001b[0m\u001b[0;34m\u001b[0m\u001b[0;34m\u001b[0m\u001b[0m\n\u001b[1;32m      5\u001b[0m \u001b[0;34m(\u001b[0m\u001b[0;36m37.3860517\u001b[0m\u001b[0;34m,\u001b[0m \u001b[0;34m-\u001b[0m\u001b[0;36m122.0838511\u001b[0m\u001b[0;34m)\u001b[0m\u001b[0;34m\u001b[0m\u001b[0;34m\u001b[0m\u001b[0m\n",
      "\u001b[0;31mModuleNotFoundError\u001b[0m: No module named 'geocoder'"
     ]
    }
   ],
   "source": []
  },
  {
   "cell_type": "code",
   "execution_count": null,
   "id": "5c06719c",
   "metadata": {},
   "outputs": [],
   "source": []
  },
  {
   "cell_type": "code",
   "execution_count": null,
   "id": "e8a5344e",
   "metadata": {},
   "outputs": [],
   "source": []
  },
  {
   "cell_type": "code",
   "execution_count": null,
   "id": "2afc98bd",
   "metadata": {},
   "outputs": [],
   "source": []
  },
  {
   "cell_type": "code",
   "execution_count": 30,
   "id": "462db526",
   "metadata": {},
   "outputs": [],
   "source": []
  },
  {
   "cell_type": "code",
   "execution_count": null,
   "id": "03d3b066",
   "metadata": {},
   "outputs": [],
   "source": []
  },
  {
   "cell_type": "code",
   "execution_count": 36,
   "id": "93f628e1",
   "metadata": {},
   "outputs": [],
   "source": []
  },
  {
   "cell_type": "code",
   "execution_count": null,
   "id": "fac67adc",
   "metadata": {},
   "outputs": [],
   "source": []
  }
 ],
 "metadata": {
  "kernelspec": {
   "display_name": "Python 3 (clean)",
   "language": "python",
   "name": "python3_clean"
  },
  "language_info": {
   "codemirror_mode": {
    "name": "ipython",
    "version": 3
   },
   "file_extension": ".py",
   "mimetype": "text/x-python",
   "name": "python",
   "nbconvert_exporter": "python",
   "pygments_lexer": "ipython3",
   "version": "3.9.5"
  }
 },
 "nbformat": 4,
 "nbformat_minor": 5
}
