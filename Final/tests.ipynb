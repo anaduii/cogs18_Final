{
 "cells": [
  {
   "cell_type": "code",
   "execution_count": 1,
   "id": "f4e1e905",
   "metadata": {},
   "outputs": [
    {
     "data": {
      "application/vnd.jupyter.widget-view+json": {
       "model_id": "5d3df0ee9e224c068b63043a3ba8395a",
       "version_major": 2,
       "version_minor": 0
      },
      "text/plain": [
       "interactive(children=(Text(value='2024-03-21', description='date'), Text(value='12:00', description='time'), I…"
      ]
     },
     "metadata": {},
     "output_type": "display_data"
    }
   ],
   "source": [
    "from functions import temperature_finder\n",
    "from functions import requests\n",
    "from functions import widgets"
   ]
  },
  {
   "cell_type": "code",
   "execution_count": 3,
   "id": "8d6ec301",
   "metadata": {},
   "outputs": [
    {
     "name": "stdout",
     "output_type": "stream",
     "text": [
      "API Response: {'version': '3.0', 'user': 'ucsd_ghimire_anadi', 'dateGenerated': '2024-03-21T07:51:31Z', 'status': 'OK', 'data': [{'parameter': 't_2m:C', 'coordinates': [{'lat': 52.520551, 'lon': 13.461804, 'dates': [{'date': '2024-03-21T00:00:00Z', 'value': 9.1}]}]}]}\n",
      "API Response: {'version': '3.0', 'user': 'ucsd_ghimire_anadi', 'dateGenerated': '2024-03-21T07:51:32Z', 'status': 'OK', 'data': [{'parameter': 't_2m:C', 'coordinates': [{'lat': 52.520551, 'lon': 13.461804, 'dates': [{'date': '2024-03-21T00:00:00Z', 'value': 9.1}]}]}]}\n"
     ]
    }
   ],
   "source": [
    "date = '2024-03-21'\n",
    "time = '00:00:00'\n",
    "lat = '52.520551'\n",
    "long = '13.461804'\n",
    "temperature_finder(date, time, lat, long, False)\n",
    "assert temperature_finder(date, time, lat, long, False) == 9.1\n",
    "assert requests\n",
    "assert widgets"
   ]
  },
  {
   "cell_type": "code",
   "execution_count": null,
   "id": "22e79598",
   "metadata": {},
   "outputs": [],
   "source": []
  }
 ],
 "metadata": {
  "kernelspec": {
   "display_name": "Python 3 (ipykernel)",
   "language": "python",
   "name": "python3"
  },
  "language_info": {
   "codemirror_mode": {
    "name": "ipython",
    "version": 3
   },
   "file_extension": ".py",
   "mimetype": "text/x-python",
   "name": "python",
   "nbconvert_exporter": "python",
   "pygments_lexer": "ipython3",
   "version": "3.9.5"
  }
 },
 "nbformat": 4,
 "nbformat_minor": 5
}
